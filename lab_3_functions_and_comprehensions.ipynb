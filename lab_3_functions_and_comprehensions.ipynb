{
  "nbformat": 4,
  "nbformat_minor": 0,
  "metadata": {
    "anaconda-cloud": {},
    "kernelspec": {
      "display_name": "Python 3",
      "language": "python",
      "name": "python3"
    },
    "language_info": {
      "codemirror_mode": {
        "name": "ipython",
        "version": 3
      },
      "file_extension": ".py",
      "mimetype": "text/x-python",
      "name": "python",
      "nbconvert_exporter": "python",
      "pygments_lexer": "ipython3",
      "version": "3.7.2"
    },
    "colab": {
      "name": "lab_3_functions_and_comprehensions.ipynb",
      "provenance": [],
      "include_colab_link": true
    }
  },
  "cells": [
    {
      "cell_type": "markdown",
      "metadata": {
        "id": "view-in-github",
        "colab_type": "text"
      },
      "source": [
        "<a href=\"https://colab.research.google.com/github/Amills226/lab3/blob/master/lab_3_functions_and_comprehensions.ipynb\" target=\"_parent\"><img src=\"https://colab.research.google.com/assets/colab-badge.svg\" alt=\"Open In Colab\"/></a>"
      ]
    },
    {
      "cell_type": "markdown",
      "metadata": {
        "id": "6U8_azDERZnH",
        "colab_type": "text"
      },
      "source": [
        "# Lab 3 - Function and List Comprehension Exercises\n",
        "\n",
        "Please complete each exercise and submit your work on D2L.\n",
        "\n",
        "**Rules:**\n",
        "\n",
        "1. All functions should be defined with `lambda` (only test functions should use `def` statements.)\n",
        "2. Each function should be accompanied by test function that covers normal and edge cases."
      ]
    },
    {
      "cell_type": "markdown",
      "metadata": {
        "id": "ulZ9xzwvRZnJ",
        "colab_type": "text"
      },
      "source": [
        "### <font color='red'> Exercise 1 </font>\n",
        "\n",
        "Write a function `sum_of_squares` that computes the sum of the squares of the numbers in the input list. *Use a helper function in your solution*\n",
        "\n",
        "\n",
        "**Example** `sum_of_squares([2, 3, 4]) === 4 + 9 + 16`  **HINT:** Use a comprehension to square the values and `sum` to compute the sum."
      ]
    },
    {
      "cell_type": "code",
      "metadata": {
        "id": "OTSB-fVmRZnK",
        "colab_type": "code",
        "colab": {}
      },
      "source": [
        "nums = [2, 3, 4]\n",
        "square = lambda x: x**2\n",
        "\n",
        "nums2 = [square(x) for x in nums]"
      ],
      "execution_count": 3,
      "outputs": []
    },
    {
      "cell_type": "code",
      "metadata": {
        "id": "KUTHQp7gcup3",
        "colab_type": "code",
        "colab": {
          "base_uri": "https://localhost:8080/",
          "height": 34
        },
        "outputId": "32a977a0-27d3-498b-eacd-5037f87dbc4c"
      },
      "source": [
        "nums2"
      ],
      "execution_count": 4,
      "outputs": [
        {
          "output_type": "execute_result",
          "data": {
            "text/plain": [
              "[4, 9, 16]"
            ]
          },
          "metadata": {
            "tags": []
          },
          "execution_count": 4
        }
      ]
    },
    {
      "cell_type": "code",
      "metadata": {
        "id": "9IILhYLacgMw",
        "colab_type": "code",
        "colab": {
          "base_uri": "https://localhost:8080/",
          "height": 34
        },
        "outputId": "cdd86fb8-2f4f-4be3-a9f9-bb0cac5747a2"
      },
      "source": [
        "sum(nums2, 0)"
      ],
      "execution_count": 10,
      "outputs": [
        {
          "output_type": "execute_result",
          "data": {
            "text/plain": [
              "29"
            ]
          },
          "metadata": {
            "tags": []
          },
          "execution_count": 10
        }
      ]
    },
    {
      "cell_type": "code",
      "metadata": {
        "id": "xYj-FPJjdVOZ",
        "colab_type": "code",
        "colab": {
          "base_uri": "https://localhost:8080/",
          "height": 34
        },
        "outputId": "4d581e2a-d7b7-4287-f171-f9dc1302a1f4"
      },
      "source": [
        "sum_of_squares = lambda x: sum([square(y) for y in x], 0)\n",
        "sum_of_squares(nums)"
      ],
      "execution_count": 27,
      "outputs": [
        {
          "output_type": "execute_result",
          "data": {
            "text/plain": [
              "29"
            ]
          },
          "metadata": {
            "tags": []
          },
          "execution_count": 27
        }
      ]
    },
    {
      "cell_type": "code",
      "metadata": {
        "id": "UB0FJds0dktd",
        "colab_type": "code",
        "colab": {}
      },
      "source": [
        "def test_sum_square():\n",
        "    assert sum_of_squares([2, 3, 4])\n",
        "    assert sum_of_squares([0, 1, 2])\n",
        "    assert sum_of_squares([-1, 0, 1, 2])\n",
        "    assert sum_of_squares([0, 1, 2, 3])\n",
        "    assert sum_of_squares([0, 1, 2, 12])\n",
        "test_sum_square()"
      ],
      "execution_count": 19,
      "outputs": []
    },
    {
      "cell_type": "markdown",
      "metadata": {
        "id": "_hVMRCz9RZnS",
        "colab_type": "text"
      },
      "source": [
        "### <font color=\"red\"> Exercise 2 </font>\n",
        "\n",
        "Write a function called `sum_even` that sums up all the even numbers in a list.  Include helper functions in your solution.\n",
        "\n",
        "**Example** `sum_even([1,2,3,4]) == 6`\n",
        "\n",
        "**Hint** You need a filter here."
      ]
    },
    {
      "cell_type": "code",
      "metadata": {
        "id": "YX52n6GKRZnT",
        "colab_type": "code",
        "colab": {
          "base_uri": "https://localhost:8080/",
          "height": 34
        },
        "outputId": "b0cddf75-18f5-499d-c82d-15304efdef49"
      },
      "source": [
        "nums = [2, 3, 4]\n",
        "even = lambda x: x % 2 ==0\n",
        "\n",
        "nums2 = [square(x) for x in nums if even(x)] \n",
        "nums2\n",
        "\n",
        "sum(nums2, 0)"
      ],
      "execution_count": 23,
      "outputs": [
        {
          "output_type": "execute_result",
          "data": {
            "text/plain": [
              "20"
            ]
          },
          "metadata": {
            "tags": []
          },
          "execution_count": 23
        }
      ]
    },
    {
      "cell_type": "code",
      "metadata": {
        "id": "A4-DSVdLfw1s",
        "colab_type": "code",
        "colab": {
          "base_uri": "https://localhost:8080/",
          "height": 34
        },
        "outputId": "7b7ab7a2-853f-4419-cd41-97ef7a81f38b"
      },
      "source": [
        "sum_of_even_squares = lambda x: sum([square(y) for y in x if even(y)], 0)\n",
        "sum_of_even_squares(nums)"
      ],
      "execution_count": 26,
      "outputs": [
        {
          "output_type": "execute_result",
          "data": {
            "text/plain": [
              "20"
            ]
          },
          "metadata": {
            "tags": []
          },
          "execution_count": 26
        }
      ]
    },
    {
      "cell_type": "code",
      "metadata": {
        "id": "cQXukpYBf92D",
        "colab_type": "code",
        "colab": {}
      },
      "source": [
        "def test_sum_even_square():\n",
        "    assert sum_of_even_squares([2, 3, 4])\n",
        "    assert sum_of_even_squares([0, 1, 2])\n",
        "    assert sum_of_even_squares([-1, 0, 1, 2])\n",
        "    assert sum_of_even_squares([0, 1, 2, 3])\n",
        "    assert sum_of_even_squares([0, 1, 2, 12])\n",
        "test_sum_even_square()"
      ],
      "execution_count": 28,
      "outputs": []
    },
    {
      "cell_type": "markdown",
      "metadata": {
        "id": "kA7EfNJdRZnZ",
        "colab_type": "text"
      },
      "source": [
        "### <font color=\"red\"> Exercise 3 </font>\n",
        "\n",
        "Write a function called `freq` that takes a value `a` and a list `L` as arguments and returns the number of times `a` occurs in `L`.\n",
        "\n",
        "**Example** `freq(1,[1,2,1,3,4]) == 2`\n",
        "\n",
        "**Hint** Use a filter in your comprehension and the `len` function"
      ]
    },
    {
      "cell_type": "code",
      "metadata": {
        "id": "ta3Kx92nRZna",
        "colab_type": "code",
        "colab": {
          "base_uri": "https://localhost:8080/",
          "height": 197
        },
        "outputId": "321f91c6-f2bc-47f7-a142-cdf9b6339a21"
      },
      "source": [
        "L = [1,2,1,3,4]\n",
        "a = 1\n",
        "filter(1, L)\n",
        "\n",
        "list(filter(1, L))"
      ],
      "execution_count": 92,
      "outputs": [
        {
          "output_type": "error",
          "ename": "TypeError",
          "evalue": "ignored",
          "traceback": [
            "\u001b[0;31m---------------------------------------------------------------------------\u001b[0m",
            "\u001b[0;31mTypeError\u001b[0m                                 Traceback (most recent call last)",
            "\u001b[0;32m<ipython-input-92-1675a4b5be38>\u001b[0m in \u001b[0;36m<module>\u001b[0;34m()\u001b[0m\n\u001b[1;32m      3\u001b[0m \u001b[0mfilter\u001b[0m\u001b[0;34m(\u001b[0m\u001b[0;36m1\u001b[0m\u001b[0;34m,\u001b[0m \u001b[0mL\u001b[0m\u001b[0;34m)\u001b[0m\u001b[0;34m\u001b[0m\u001b[0;34m\u001b[0m\u001b[0m\n\u001b[1;32m      4\u001b[0m \u001b[0;34m\u001b[0m\u001b[0m\n\u001b[0;32m----> 5\u001b[0;31m \u001b[0mlist\u001b[0m\u001b[0;34m(\u001b[0m\u001b[0mfilter\u001b[0m\u001b[0;34m(\u001b[0m\u001b[0;36m1\u001b[0m\u001b[0;34m,\u001b[0m \u001b[0mL\u001b[0m\u001b[0;34m)\u001b[0m\u001b[0;34m)\u001b[0m\u001b[0;34m\u001b[0m\u001b[0;34m\u001b[0m\u001b[0m\n\u001b[0m",
            "\u001b[0;31mTypeError\u001b[0m: 'int' object is not callable"
          ]
        }
      ]
    },
    {
      "cell_type": "code",
      "metadata": {
        "id": "M78RUNBiHeet",
        "colab_type": "code",
        "colab": {
          "base_uri": "https://localhost:8080/",
          "height": 163
        },
        "outputId": "048b30ee-f29e-4dbf-fb16-d8fc461c2ef3"
      },
      "source": [
        ""
      ],
      "execution_count": 50,
      "outputs": [
        {
          "output_type": "error",
          "ename": "AttributeError",
          "evalue": "ignored",
          "traceback": [
            "\u001b[0;31m---------------------------------------------------------------------------\u001b[0m",
            "\u001b[0;31mAttributeError\u001b[0m                            Traceback (most recent call last)",
            "\u001b[0;32m<ipython-input-50-628eb97f0aa3>\u001b[0m in \u001b[0;36m<module>\u001b[0;34m()\u001b[0m\n\u001b[0;32m----> 1\u001b[0;31m \u001b[0mfilt\u001b[0m\u001b[0;34m.\u001b[0m\u001b[0mlen\u001b[0m\u001b[0;34m\u001b[0m\u001b[0;34m\u001b[0m\u001b[0m\n\u001b[0m",
            "\u001b[0;31mAttributeError\u001b[0m: 'function' object has no attribute 'len'"
          ]
        }
      ]
    },
    {
      "cell_type": "markdown",
      "metadata": {
        "id": "KNMtALHNRZne",
        "colab_type": "text"
      },
      "source": [
        "### <font color=\"red\"> Exercise 4 </font>\n",
        "\n",
        "Write a function called `between` that takes value `a`, `b` and a list `L` as arguments and returns `True` when all of the elements of `L` that strictly between `a` and `b`.\n",
        "\n",
        "**Example** `between(0, 5,[1,2,1,3,4]) == True`\n",
        "\n",
        "**Hint** Use a boolean expresion and the `all` function."
      ]
    },
    {
      "cell_type": "code",
      "metadata": {
        "id": "Pzj5_kAgRZne",
        "colab_type": "code",
        "colab": {
          "base_uri": "https://localhost:8080/",
          "height": 34
        },
        "outputId": "40b42b22-e94b-46b6-9db6-3007a85107b6"
      },
      "source": [
        "L = [1,2,1,3,4]\n",
        "a = 0\n",
        "b = 5\n",
        "\n",
        "inbetween = [(x > 0) & (x < 5) for x in L]\n",
        "inbetween\n"
      ],
      "execution_count": 73,
      "outputs": [
        {
          "output_type": "execute_result",
          "data": {
            "text/plain": [
              "[True, True, True, True, True]"
            ]
          },
          "metadata": {
            "tags": []
          },
          "execution_count": 73
        }
      ]
    },
    {
      "cell_type": "code",
      "metadata": {
        "id": "KVsuRKUKRYJv",
        "colab_type": "code",
        "colab": {
          "base_uri": "https://localhost:8080/",
          "height": 34
        },
        "outputId": "fcac030d-1ff6-4c36-95c0-34422ac96c8f"
      },
      "source": [
        "between = lambda x,y,L: all([(a > x) & (a < y) for a in L])\n",
        "between(a,b,[1,2,3,4])"
      ],
      "execution_count": 87,
      "outputs": [
        {
          "output_type": "execute_result",
          "data": {
            "text/plain": [
              "True"
            ]
          },
          "metadata": {
            "tags": []
          },
          "execution_count": 87
        }
      ]
    },
    {
      "cell_type": "code",
      "metadata": {
        "id": "4nOHBap0RZ50",
        "colab_type": "code",
        "colab": {}
      },
      "source": [
        "def test_between():\n",
        "    assert between(0,5,L) == True;\n",
        "    assert between(-5,0,L) == False\n",
        "    assert between(-5,0,[1,2,3,4,5]) == False\n",
        "    assert between(0,5,[6,7,8,3]) == False\n",
        "    assert between(0,5,[-1,1,-2,2]) == False\n",
        "    assert between(0,5,[8]) == False\n",
        "test_between()"
      ],
      "execution_count": 85,
      "outputs": []
    }
  ]
}